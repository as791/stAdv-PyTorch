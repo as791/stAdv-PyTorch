{
  "nbformat": 4,
  "nbformat_minor": 0,
  "metadata": {
    "colab": {
      "name": "StAdv_attack.ipynb",
      "provenance": [],
      "authorship_tag": "ABX9TyOAxS+tRhG2EdaDZ6mvB3az",
      "include_colab_link": true
    },
    "kernelspec": {
      "name": "python3",
      "display_name": "Python 3"
    },
    "accelerator": "GPU",
    "widgets": {
      "application/vnd.jupyter.widget-state+json": {
        "d3fa003abd134f478079c69058e98f1d": {
          "model_module": "@jupyter-widgets/controls",
          "model_name": "HBoxModel",
          "state": {
            "_view_name": "HBoxView",
            "_dom_classes": [],
            "_model_name": "HBoxModel",
            "_view_module": "@jupyter-widgets/controls",
            "_model_module_version": "1.5.0",
            "_view_count": null,
            "_view_module_version": "1.5.0",
            "box_style": "",
            "layout": "IPY_MODEL_f4b7fa3a03994b919ffea403a85b567b",
            "_model_module": "@jupyter-widgets/controls",
            "children": [
              "IPY_MODEL_258d2d2e3ee641f78a6fbeb2739db0e3",
              "IPY_MODEL_2b33babd76c7461ca8627e740b8ce53e"
            ]
          }
        },
        "f4b7fa3a03994b919ffea403a85b567b": {
          "model_module": "@jupyter-widgets/base",
          "model_name": "LayoutModel",
          "state": {
            "_view_name": "LayoutView",
            "grid_template_rows": null,
            "right": null,
            "justify_content": null,
            "_view_module": "@jupyter-widgets/base",
            "overflow": null,
            "_model_module_version": "1.2.0",
            "_view_count": null,
            "flex_flow": null,
            "width": null,
            "min_width": null,
            "border": null,
            "align_items": null,
            "bottom": null,
            "_model_module": "@jupyter-widgets/base",
            "top": null,
            "grid_column": null,
            "overflow_y": null,
            "overflow_x": null,
            "grid_auto_flow": null,
            "grid_area": null,
            "grid_template_columns": null,
            "flex": null,
            "_model_name": "LayoutModel",
            "justify_items": null,
            "grid_row": null,
            "max_height": null,
            "align_content": null,
            "visibility": null,
            "align_self": null,
            "height": null,
            "min_height": null,
            "padding": null,
            "grid_auto_rows": null,
            "grid_gap": null,
            "max_width": null,
            "order": null,
            "_view_module_version": "1.2.0",
            "grid_template_areas": null,
            "object_position": null,
            "object_fit": null,
            "grid_auto_columns": null,
            "margin": null,
            "display": null,
            "left": null
          }
        },
        "258d2d2e3ee641f78a6fbeb2739db0e3": {
          "model_module": "@jupyter-widgets/controls",
          "model_name": "FloatProgressModel",
          "state": {
            "_view_name": "ProgressView",
            "style": "IPY_MODEL_e74fa1b2c8fc415abb7431a4609c7a0c",
            "_dom_classes": [],
            "description": "",
            "_model_name": "FloatProgressModel",
            "bar_style": "info",
            "max": 1,
            "_view_module": "@jupyter-widgets/controls",
            "_model_module_version": "1.5.0",
            "value": 1,
            "_view_count": null,
            "_view_module_version": "1.5.0",
            "orientation": "horizontal",
            "min": 0,
            "description_tooltip": null,
            "_model_module": "@jupyter-widgets/controls",
            "layout": "IPY_MODEL_0a7ca3f3e6284021b5be1292087ec15f"
          }
        },
        "2b33babd76c7461ca8627e740b8ce53e": {
          "model_module": "@jupyter-widgets/controls",
          "model_name": "HTMLModel",
          "state": {
            "_view_name": "HTMLView",
            "style": "IPY_MODEL_734130b7beee4ee183619a69a9516699",
            "_dom_classes": [],
            "description": "",
            "_model_name": "HTMLModel",
            "placeholder": "​",
            "_view_module": "@jupyter-widgets/controls",
            "_model_module_version": "1.5.0",
            "value": " 9920512/? [00:20&lt;00:00, 711401.32it/s]",
            "_view_count": null,
            "_view_module_version": "1.5.0",
            "description_tooltip": null,
            "_model_module": "@jupyter-widgets/controls",
            "layout": "IPY_MODEL_c9aa296145cf48f2a1bec70ab55fe993"
          }
        },
        "e74fa1b2c8fc415abb7431a4609c7a0c": {
          "model_module": "@jupyter-widgets/controls",
          "model_name": "ProgressStyleModel",
          "state": {
            "_view_name": "StyleView",
            "_model_name": "ProgressStyleModel",
            "description_width": "initial",
            "_view_module": "@jupyter-widgets/base",
            "_model_module_version": "1.5.0",
            "_view_count": null,
            "_view_module_version": "1.2.0",
            "bar_color": null,
            "_model_module": "@jupyter-widgets/controls"
          }
        },
        "0a7ca3f3e6284021b5be1292087ec15f": {
          "model_module": "@jupyter-widgets/base",
          "model_name": "LayoutModel",
          "state": {
            "_view_name": "LayoutView",
            "grid_template_rows": null,
            "right": null,
            "justify_content": null,
            "_view_module": "@jupyter-widgets/base",
            "overflow": null,
            "_model_module_version": "1.2.0",
            "_view_count": null,
            "flex_flow": null,
            "width": null,
            "min_width": null,
            "border": null,
            "align_items": null,
            "bottom": null,
            "_model_module": "@jupyter-widgets/base",
            "top": null,
            "grid_column": null,
            "overflow_y": null,
            "overflow_x": null,
            "grid_auto_flow": null,
            "grid_area": null,
            "grid_template_columns": null,
            "flex": null,
            "_model_name": "LayoutModel",
            "justify_items": null,
            "grid_row": null,
            "max_height": null,
            "align_content": null,
            "visibility": null,
            "align_self": null,
            "height": null,
            "min_height": null,
            "padding": null,
            "grid_auto_rows": null,
            "grid_gap": null,
            "max_width": null,
            "order": null,
            "_view_module_version": "1.2.0",
            "grid_template_areas": null,
            "object_position": null,
            "object_fit": null,
            "grid_auto_columns": null,
            "margin": null,
            "display": null,
            "left": null
          }
        },
        "734130b7beee4ee183619a69a9516699": {
          "model_module": "@jupyter-widgets/controls",
          "model_name": "DescriptionStyleModel",
          "state": {
            "_view_name": "StyleView",
            "_model_name": "DescriptionStyleModel",
            "description_width": "",
            "_view_module": "@jupyter-widgets/base",
            "_model_module_version": "1.5.0",
            "_view_count": null,
            "_view_module_version": "1.2.0",
            "_model_module": "@jupyter-widgets/controls"
          }
        },
        "c9aa296145cf48f2a1bec70ab55fe993": {
          "model_module": "@jupyter-widgets/base",
          "model_name": "LayoutModel",
          "state": {
            "_view_name": "LayoutView",
            "grid_template_rows": null,
            "right": null,
            "justify_content": null,
            "_view_module": "@jupyter-widgets/base",
            "overflow": null,
            "_model_module_version": "1.2.0",
            "_view_count": null,
            "flex_flow": null,
            "width": null,
            "min_width": null,
            "border": null,
            "align_items": null,
            "bottom": null,
            "_model_module": "@jupyter-widgets/base",
            "top": null,
            "grid_column": null,
            "overflow_y": null,
            "overflow_x": null,
            "grid_auto_flow": null,
            "grid_area": null,
            "grid_template_columns": null,
            "flex": null,
            "_model_name": "LayoutModel",
            "justify_items": null,
            "grid_row": null,
            "max_height": null,
            "align_content": null,
            "visibility": null,
            "align_self": null,
            "height": null,
            "min_height": null,
            "padding": null,
            "grid_auto_rows": null,
            "grid_gap": null,
            "max_width": null,
            "order": null,
            "_view_module_version": "1.2.0",
            "grid_template_areas": null,
            "object_position": null,
            "object_fit": null,
            "grid_auto_columns": null,
            "margin": null,
            "display": null,
            "left": null
          }
        },
        "a1f8a186017640aca80ad36989a57581": {
          "model_module": "@jupyter-widgets/controls",
          "model_name": "HBoxModel",
          "state": {
            "_view_name": "HBoxView",
            "_dom_classes": [],
            "_model_name": "HBoxModel",
            "_view_module": "@jupyter-widgets/controls",
            "_model_module_version": "1.5.0",
            "_view_count": null,
            "_view_module_version": "1.5.0",
            "box_style": "",
            "layout": "IPY_MODEL_365bb49db87a4d50927385b065af7a51",
            "_model_module": "@jupyter-widgets/controls",
            "children": [
              "IPY_MODEL_96074c9c56044a11948478b84feb5acc",
              "IPY_MODEL_32093931c9b4462ea5e74e4a66ac2044"
            ]
          }
        },
        "365bb49db87a4d50927385b065af7a51": {
          "model_module": "@jupyter-widgets/base",
          "model_name": "LayoutModel",
          "state": {
            "_view_name": "LayoutView",
            "grid_template_rows": null,
            "right": null,
            "justify_content": null,
            "_view_module": "@jupyter-widgets/base",
            "overflow": null,
            "_model_module_version": "1.2.0",
            "_view_count": null,
            "flex_flow": null,
            "width": null,
            "min_width": null,
            "border": null,
            "align_items": null,
            "bottom": null,
            "_model_module": "@jupyter-widgets/base",
            "top": null,
            "grid_column": null,
            "overflow_y": null,
            "overflow_x": null,
            "grid_auto_flow": null,
            "grid_area": null,
            "grid_template_columns": null,
            "flex": null,
            "_model_name": "LayoutModel",
            "justify_items": null,
            "grid_row": null,
            "max_height": null,
            "align_content": null,
            "visibility": null,
            "align_self": null,
            "height": null,
            "min_height": null,
            "padding": null,
            "grid_auto_rows": null,
            "grid_gap": null,
            "max_width": null,
            "order": null,
            "_view_module_version": "1.2.0",
            "grid_template_areas": null,
            "object_position": null,
            "object_fit": null,
            "grid_auto_columns": null,
            "margin": null,
            "display": null,
            "left": null
          }
        },
        "96074c9c56044a11948478b84feb5acc": {
          "model_module": "@jupyter-widgets/controls",
          "model_name": "FloatProgressModel",
          "state": {
            "_view_name": "ProgressView",
            "style": "IPY_MODEL_341188abca7148b099b697f6ef8c6656",
            "_dom_classes": [],
            "description": "",
            "_model_name": "FloatProgressModel",
            "bar_style": "success",
            "max": 1,
            "_view_module": "@jupyter-widgets/controls",
            "_model_module_version": "1.5.0",
            "value": 1,
            "_view_count": null,
            "_view_module_version": "1.5.0",
            "orientation": "horizontal",
            "min": 0,
            "description_tooltip": null,
            "_model_module": "@jupyter-widgets/controls",
            "layout": "IPY_MODEL_4e3bda5aa63b49bbb605a04ed5222e55"
          }
        },
        "32093931c9b4462ea5e74e4a66ac2044": {
          "model_module": "@jupyter-widgets/controls",
          "model_name": "HTMLModel",
          "state": {
            "_view_name": "HTMLView",
            "style": "IPY_MODEL_dec10218bf974dbeae3fe019483255d1",
            "_dom_classes": [],
            "description": "",
            "_model_name": "HTMLModel",
            "placeholder": "​",
            "_view_module": "@jupyter-widgets/controls",
            "_model_module_version": "1.5.0",
            "value": " 32768/? [00:01&lt;00:00, 19762.94it/s]",
            "_view_count": null,
            "_view_module_version": "1.5.0",
            "description_tooltip": null,
            "_model_module": "@jupyter-widgets/controls",
            "layout": "IPY_MODEL_75d321d06f14421e88a1fa20262585fc"
          }
        },
        "341188abca7148b099b697f6ef8c6656": {
          "model_module": "@jupyter-widgets/controls",
          "model_name": "ProgressStyleModel",
          "state": {
            "_view_name": "StyleView",
            "_model_name": "ProgressStyleModel",
            "description_width": "initial",
            "_view_module": "@jupyter-widgets/base",
            "_model_module_version": "1.5.0",
            "_view_count": null,
            "_view_module_version": "1.2.0",
            "bar_color": null,
            "_model_module": "@jupyter-widgets/controls"
          }
        },
        "4e3bda5aa63b49bbb605a04ed5222e55": {
          "model_module": "@jupyter-widgets/base",
          "model_name": "LayoutModel",
          "state": {
            "_view_name": "LayoutView",
            "grid_template_rows": null,
            "right": null,
            "justify_content": null,
            "_view_module": "@jupyter-widgets/base",
            "overflow": null,
            "_model_module_version": "1.2.0",
            "_view_count": null,
            "flex_flow": null,
            "width": null,
            "min_width": null,
            "border": null,
            "align_items": null,
            "bottom": null,
            "_model_module": "@jupyter-widgets/base",
            "top": null,
            "grid_column": null,
            "overflow_y": null,
            "overflow_x": null,
            "grid_auto_flow": null,
            "grid_area": null,
            "grid_template_columns": null,
            "flex": null,
            "_model_name": "LayoutModel",
            "justify_items": null,
            "grid_row": null,
            "max_height": null,
            "align_content": null,
            "visibility": null,
            "align_self": null,
            "height": null,
            "min_height": null,
            "padding": null,
            "grid_auto_rows": null,
            "grid_gap": null,
            "max_width": null,
            "order": null,
            "_view_module_version": "1.2.0",
            "grid_template_areas": null,
            "object_position": null,
            "object_fit": null,
            "grid_auto_columns": null,
            "margin": null,
            "display": null,
            "left": null
          }
        },
        "dec10218bf974dbeae3fe019483255d1": {
          "model_module": "@jupyter-widgets/controls",
          "model_name": "DescriptionStyleModel",
          "state": {
            "_view_name": "StyleView",
            "_model_name": "DescriptionStyleModel",
            "description_width": "",
            "_view_module": "@jupyter-widgets/base",
            "_model_module_version": "1.5.0",
            "_view_count": null,
            "_view_module_version": "1.2.0",
            "_model_module": "@jupyter-widgets/controls"
          }
        },
        "75d321d06f14421e88a1fa20262585fc": {
          "model_module": "@jupyter-widgets/base",
          "model_name": "LayoutModel",
          "state": {
            "_view_name": "LayoutView",
            "grid_template_rows": null,
            "right": null,
            "justify_content": null,
            "_view_module": "@jupyter-widgets/base",
            "overflow": null,
            "_model_module_version": "1.2.0",
            "_view_count": null,
            "flex_flow": null,
            "width": null,
            "min_width": null,
            "border": null,
            "align_items": null,
            "bottom": null,
            "_model_module": "@jupyter-widgets/base",
            "top": null,
            "grid_column": null,
            "overflow_y": null,
            "overflow_x": null,
            "grid_auto_flow": null,
            "grid_area": null,
            "grid_template_columns": null,
            "flex": null,
            "_model_name": "LayoutModel",
            "justify_items": null,
            "grid_row": null,
            "max_height": null,
            "align_content": null,
            "visibility": null,
            "align_self": null,
            "height": null,
            "min_height": null,
            "padding": null,
            "grid_auto_rows": null,
            "grid_gap": null,
            "max_width": null,
            "order": null,
            "_view_module_version": "1.2.0",
            "grid_template_areas": null,
            "object_position": null,
            "object_fit": null,
            "grid_auto_columns": null,
            "margin": null,
            "display": null,
            "left": null
          }
        },
        "edf9206ca6334fa6b363ff4bfafb9387": {
          "model_module": "@jupyter-widgets/controls",
          "model_name": "HBoxModel",
          "state": {
            "_view_name": "HBoxView",
            "_dom_classes": [],
            "_model_name": "HBoxModel",
            "_view_module": "@jupyter-widgets/controls",
            "_model_module_version": "1.5.0",
            "_view_count": null,
            "_view_module_version": "1.5.0",
            "box_style": "",
            "layout": "IPY_MODEL_c42d3302b5ba45f9a4025451f541711c",
            "_model_module": "@jupyter-widgets/controls",
            "children": [
              "IPY_MODEL_ccebe90a1cda4c04a4be9fe4d6b824d9",
              "IPY_MODEL_dffa5222fa75446b8970b2e6da1b1ec4"
            ]
          }
        },
        "c42d3302b5ba45f9a4025451f541711c": {
          "model_module": "@jupyter-widgets/base",
          "model_name": "LayoutModel",
          "state": {
            "_view_name": "LayoutView",
            "grid_template_rows": null,
            "right": null,
            "justify_content": null,
            "_view_module": "@jupyter-widgets/base",
            "overflow": null,
            "_model_module_version": "1.2.0",
            "_view_count": null,
            "flex_flow": null,
            "width": null,
            "min_width": null,
            "border": null,
            "align_items": null,
            "bottom": null,
            "_model_module": "@jupyter-widgets/base",
            "top": null,
            "grid_column": null,
            "overflow_y": null,
            "overflow_x": null,
            "grid_auto_flow": null,
            "grid_area": null,
            "grid_template_columns": null,
            "flex": null,
            "_model_name": "LayoutModel",
            "justify_items": null,
            "grid_row": null,
            "max_height": null,
            "align_content": null,
            "visibility": null,
            "align_self": null,
            "height": null,
            "min_height": null,
            "padding": null,
            "grid_auto_rows": null,
            "grid_gap": null,
            "max_width": null,
            "order": null,
            "_view_module_version": "1.2.0",
            "grid_template_areas": null,
            "object_position": null,
            "object_fit": null,
            "grid_auto_columns": null,
            "margin": null,
            "display": null,
            "left": null
          }
        },
        "ccebe90a1cda4c04a4be9fe4d6b824d9": {
          "model_module": "@jupyter-widgets/controls",
          "model_name": "FloatProgressModel",
          "state": {
            "_view_name": "ProgressView",
            "style": "IPY_MODEL_6939fc0956944b1dbe8fdef72a56aeb0",
            "_dom_classes": [],
            "description": "",
            "_model_name": "FloatProgressModel",
            "bar_style": "success",
            "max": 1,
            "_view_module": "@jupyter-widgets/controls",
            "_model_module_version": "1.5.0",
            "value": 1,
            "_view_count": null,
            "_view_module_version": "1.5.0",
            "orientation": "horizontal",
            "min": 0,
            "description_tooltip": null,
            "_model_module": "@jupyter-widgets/controls",
            "layout": "IPY_MODEL_19aabb004ad14deba50786406630c100"
          }
        },
        "dffa5222fa75446b8970b2e6da1b1ec4": {
          "model_module": "@jupyter-widgets/controls",
          "model_name": "HTMLModel",
          "state": {
            "_view_name": "HTMLView",
            "style": "IPY_MODEL_456b5dc375684ee8adae7fab15b51025",
            "_dom_classes": [],
            "description": "",
            "_model_name": "HTMLModel",
            "placeholder": "​",
            "_view_module": "@jupyter-widgets/controls",
            "_model_module_version": "1.5.0",
            "value": " 1654784/? [00:01&lt;00:00, 1248308.41it/s]",
            "_view_count": null,
            "_view_module_version": "1.5.0",
            "description_tooltip": null,
            "_model_module": "@jupyter-widgets/controls",
            "layout": "IPY_MODEL_111b298d6a0e4442ae9c1dfc9bd924fa"
          }
        },
        "6939fc0956944b1dbe8fdef72a56aeb0": {
          "model_module": "@jupyter-widgets/controls",
          "model_name": "ProgressStyleModel",
          "state": {
            "_view_name": "StyleView",
            "_model_name": "ProgressStyleModel",
            "description_width": "initial",
            "_view_module": "@jupyter-widgets/base",
            "_model_module_version": "1.5.0",
            "_view_count": null,
            "_view_module_version": "1.2.0",
            "bar_color": null,
            "_model_module": "@jupyter-widgets/controls"
          }
        },
        "19aabb004ad14deba50786406630c100": {
          "model_module": "@jupyter-widgets/base",
          "model_name": "LayoutModel",
          "state": {
            "_view_name": "LayoutView",
            "grid_template_rows": null,
            "right": null,
            "justify_content": null,
            "_view_module": "@jupyter-widgets/base",
            "overflow": null,
            "_model_module_version": "1.2.0",
            "_view_count": null,
            "flex_flow": null,
            "width": null,
            "min_width": null,
            "border": null,
            "align_items": null,
            "bottom": null,
            "_model_module": "@jupyter-widgets/base",
            "top": null,
            "grid_column": null,
            "overflow_y": null,
            "overflow_x": null,
            "grid_auto_flow": null,
            "grid_area": null,
            "grid_template_columns": null,
            "flex": null,
            "_model_name": "LayoutModel",
            "justify_items": null,
            "grid_row": null,
            "max_height": null,
            "align_content": null,
            "visibility": null,
            "align_self": null,
            "height": null,
            "min_height": null,
            "padding": null,
            "grid_auto_rows": null,
            "grid_gap": null,
            "max_width": null,
            "order": null,
            "_view_module_version": "1.2.0",
            "grid_template_areas": null,
            "object_position": null,
            "object_fit": null,
            "grid_auto_columns": null,
            "margin": null,
            "display": null,
            "left": null
          }
        },
        "456b5dc375684ee8adae7fab15b51025": {
          "model_module": "@jupyter-widgets/controls",
          "model_name": "DescriptionStyleModel",
          "state": {
            "_view_name": "StyleView",
            "_model_name": "DescriptionStyleModel",
            "description_width": "",
            "_view_module": "@jupyter-widgets/base",
            "_model_module_version": "1.5.0",
            "_view_count": null,
            "_view_module_version": "1.2.0",
            "_model_module": "@jupyter-widgets/controls"
          }
        },
        "111b298d6a0e4442ae9c1dfc9bd924fa": {
          "model_module": "@jupyter-widgets/base",
          "model_name": "LayoutModel",
          "state": {
            "_view_name": "LayoutView",
            "grid_template_rows": null,
            "right": null,
            "justify_content": null,
            "_view_module": "@jupyter-widgets/base",
            "overflow": null,
            "_model_module_version": "1.2.0",
            "_view_count": null,
            "flex_flow": null,
            "width": null,
            "min_width": null,
            "border": null,
            "align_items": null,
            "bottom": null,
            "_model_module": "@jupyter-widgets/base",
            "top": null,
            "grid_column": null,
            "overflow_y": null,
            "overflow_x": null,
            "grid_auto_flow": null,
            "grid_area": null,
            "grid_template_columns": null,
            "flex": null,
            "_model_name": "LayoutModel",
            "justify_items": null,
            "grid_row": null,
            "max_height": null,
            "align_content": null,
            "visibility": null,
            "align_self": null,
            "height": null,
            "min_height": null,
            "padding": null,
            "grid_auto_rows": null,
            "grid_gap": null,
            "max_width": null,
            "order": null,
            "_view_module_version": "1.2.0",
            "grid_template_areas": null,
            "object_position": null,
            "object_fit": null,
            "grid_auto_columns": null,
            "margin": null,
            "display": null,
            "left": null
          }
        },
        "9c2c1c5363fc43d8883c2de292139cb7": {
          "model_module": "@jupyter-widgets/controls",
          "model_name": "HBoxModel",
          "state": {
            "_view_name": "HBoxView",
            "_dom_classes": [],
            "_model_name": "HBoxModel",
            "_view_module": "@jupyter-widgets/controls",
            "_model_module_version": "1.5.0",
            "_view_count": null,
            "_view_module_version": "1.5.0",
            "box_style": "",
            "layout": "IPY_MODEL_27ded57766b0407db10e1709a5f52bdf",
            "_model_module": "@jupyter-widgets/controls",
            "children": [
              "IPY_MODEL_2bcf2cadf6dd4976824c8c55803e4bbf",
              "IPY_MODEL_38ed1490cdb448738696b4d16d8b4bf6"
            ]
          }
        },
        "27ded57766b0407db10e1709a5f52bdf": {
          "model_module": "@jupyter-widgets/base",
          "model_name": "LayoutModel",
          "state": {
            "_view_name": "LayoutView",
            "grid_template_rows": null,
            "right": null,
            "justify_content": null,
            "_view_module": "@jupyter-widgets/base",
            "overflow": null,
            "_model_module_version": "1.2.0",
            "_view_count": null,
            "flex_flow": null,
            "width": null,
            "min_width": null,
            "border": null,
            "align_items": null,
            "bottom": null,
            "_model_module": "@jupyter-widgets/base",
            "top": null,
            "grid_column": null,
            "overflow_y": null,
            "overflow_x": null,
            "grid_auto_flow": null,
            "grid_area": null,
            "grid_template_columns": null,
            "flex": null,
            "_model_name": "LayoutModel",
            "justify_items": null,
            "grid_row": null,
            "max_height": null,
            "align_content": null,
            "visibility": null,
            "align_self": null,
            "height": null,
            "min_height": null,
            "padding": null,
            "grid_auto_rows": null,
            "grid_gap": null,
            "max_width": null,
            "order": null,
            "_view_module_version": "1.2.0",
            "grid_template_areas": null,
            "object_position": null,
            "object_fit": null,
            "grid_auto_columns": null,
            "margin": null,
            "display": null,
            "left": null
          }
        },
        "2bcf2cadf6dd4976824c8c55803e4bbf": {
          "model_module": "@jupyter-widgets/controls",
          "model_name": "FloatProgressModel",
          "state": {
            "_view_name": "ProgressView",
            "style": "IPY_MODEL_bb59055d90204d5eb982ab9a6af3090a",
            "_dom_classes": [],
            "description": "",
            "_model_name": "FloatProgressModel",
            "bar_style": "success",
            "max": 1,
            "_view_module": "@jupyter-widgets/controls",
            "_model_module_version": "1.5.0",
            "value": 1,
            "_view_count": null,
            "_view_module_version": "1.5.0",
            "orientation": "horizontal",
            "min": 0,
            "description_tooltip": null,
            "_model_module": "@jupyter-widgets/controls",
            "layout": "IPY_MODEL_dd90f3733c0c4a518885f0613e0de601"
          }
        },
        "38ed1490cdb448738696b4d16d8b4bf6": {
          "model_module": "@jupyter-widgets/controls",
          "model_name": "HTMLModel",
          "state": {
            "_view_name": "HTMLView",
            "style": "IPY_MODEL_488824ecc34e423f91544ea87ec48a21",
            "_dom_classes": [],
            "description": "",
            "_model_name": "HTMLModel",
            "placeholder": "​",
            "_view_module": "@jupyter-widgets/controls",
            "_model_module_version": "1.5.0",
            "value": " 8192/? [00:00&lt;00:00, 17119.62it/s]",
            "_view_count": null,
            "_view_module_version": "1.5.0",
            "description_tooltip": null,
            "_model_module": "@jupyter-widgets/controls",
            "layout": "IPY_MODEL_c9f8f0f229c94b47b91a45a355bf7bbe"
          }
        },
        "bb59055d90204d5eb982ab9a6af3090a": {
          "model_module": "@jupyter-widgets/controls",
          "model_name": "ProgressStyleModel",
          "state": {
            "_view_name": "StyleView",
            "_model_name": "ProgressStyleModel",
            "description_width": "initial",
            "_view_module": "@jupyter-widgets/base",
            "_model_module_version": "1.5.0",
            "_view_count": null,
            "_view_module_version": "1.2.0",
            "bar_color": null,
            "_model_module": "@jupyter-widgets/controls"
          }
        },
        "dd90f3733c0c4a518885f0613e0de601": {
          "model_module": "@jupyter-widgets/base",
          "model_name": "LayoutModel",
          "state": {
            "_view_name": "LayoutView",
            "grid_template_rows": null,
            "right": null,
            "justify_content": null,
            "_view_module": "@jupyter-widgets/base",
            "overflow": null,
            "_model_module_version": "1.2.0",
            "_view_count": null,
            "flex_flow": null,
            "width": null,
            "min_width": null,
            "border": null,
            "align_items": null,
            "bottom": null,
            "_model_module": "@jupyter-widgets/base",
            "top": null,
            "grid_column": null,
            "overflow_y": null,
            "overflow_x": null,
            "grid_auto_flow": null,
            "grid_area": null,
            "grid_template_columns": null,
            "flex": null,
            "_model_name": "LayoutModel",
            "justify_items": null,
            "grid_row": null,
            "max_height": null,
            "align_content": null,
            "visibility": null,
            "align_self": null,
            "height": null,
            "min_height": null,
            "padding": null,
            "grid_auto_rows": null,
            "grid_gap": null,
            "max_width": null,
            "order": null,
            "_view_module_version": "1.2.0",
            "grid_template_areas": null,
            "object_position": null,
            "object_fit": null,
            "grid_auto_columns": null,
            "margin": null,
            "display": null,
            "left": null
          }
        },
        "488824ecc34e423f91544ea87ec48a21": {
          "model_module": "@jupyter-widgets/controls",
          "model_name": "DescriptionStyleModel",
          "state": {
            "_view_name": "StyleView",
            "_model_name": "DescriptionStyleModel",
            "description_width": "",
            "_view_module": "@jupyter-widgets/base",
            "_model_module_version": "1.5.0",
            "_view_count": null,
            "_view_module_version": "1.2.0",
            "_model_module": "@jupyter-widgets/controls"
          }
        },
        "c9f8f0f229c94b47b91a45a355bf7bbe": {
          "model_module": "@jupyter-widgets/base",
          "model_name": "LayoutModel",
          "state": {
            "_view_name": "LayoutView",
            "grid_template_rows": null,
            "right": null,
            "justify_content": null,
            "_view_module": "@jupyter-widgets/base",
            "overflow": null,
            "_model_module_version": "1.2.0",
            "_view_count": null,
            "flex_flow": null,
            "width": null,
            "min_width": null,
            "border": null,
            "align_items": null,
            "bottom": null,
            "_model_module": "@jupyter-widgets/base",
            "top": null,
            "grid_column": null,
            "overflow_y": null,
            "overflow_x": null,
            "grid_auto_flow": null,
            "grid_area": null,
            "grid_template_columns": null,
            "flex": null,
            "_model_name": "LayoutModel",
            "justify_items": null,
            "grid_row": null,
            "max_height": null,
            "align_content": null,
            "visibility": null,
            "align_self": null,
            "height": null,
            "min_height": null,
            "padding": null,
            "grid_auto_rows": null,
            "grid_gap": null,
            "max_width": null,
            "order": null,
            "_view_module_version": "1.2.0",
            "grid_template_areas": null,
            "object_position": null,
            "object_fit": null,
            "grid_auto_columns": null,
            "margin": null,
            "display": null,
            "left": null
          }
        }
      }
    }
  },
  "cells": [
    {
      "cell_type": "markdown",
      "metadata": {
        "id": "view-in-github",
        "colab_type": "text"
      },
      "source": [
        "<a href=\"https://colab.research.google.com/github/as791/stAdv-PyTorch/blob/main/StAdv_attack.ipynb\" target=\"_parent\"><img src=\"https://colab.research.google.com/assets/colab-badge.svg\" alt=\"Open In Colab\"/></a>"
      ]
    },
    {
      "cell_type": "code",
      "metadata": {
        "id": "UUAq4jOuHzYu"
      },
      "source": [
        "import numpy as np\n",
        "import matplotlib.pyplot as plt\n",
        "import torch\n",
        "import torch.nn as nn\n",
        "import torch.nn.functional as F\n",
        "import torch.optim as optim\n",
        "from torchsummary import summary\n",
        "from torchvision import transforms,datasets\n",
        "from scipy import optimize "
      ],
      "execution_count": null,
      "outputs": []
    },
    {
      "cell_type": "markdown",
      "metadata": {
        "id": "YS9WPuyyHuKe"
      },
      "source": [
        "##Train Model "
      ]
    },
    {
      "cell_type": "code",
      "metadata": {
        "id": "bEbR0wY8Hl3m"
      },
      "source": [
        "class Net(nn.Module):\n",
        "  def __init__(self):\n",
        "    super(Net, self).__init__()\n",
        "    self.conv1 = nn.Conv2d(1, 32, 3, 1)\n",
        "    self.conv2 = nn.Conv2d(32, 32, 3, 1)\n",
        "    self.conv3= nn.Conv2d(32, 64, 3, 1)\n",
        "    self.conv4= nn.Conv2d(64, 64, 3, 1)\n",
        "    self.dropout1 = nn.Dropout2d(0.5)\n",
        "    self.fc1 = nn.Linear(1024, 200)\n",
        "    self.fc2 = nn.Linear(200, 200)\n",
        "    self.fc3 = nn.Linear(200, 10)\n",
        "\n",
        "  def forward(self, x):\n",
        "    x = self.conv1(x)   \n",
        "    x = F.relu(x)\n",
        "    x = self.conv2(x)   \n",
        "    x = F.relu(x)\n",
        "    x = F.max_pool2d(x, 2)  \n",
        "    x = self.conv3(x)       \n",
        "    x = F.relu(x)\n",
        "    x = self.conv4(x)\n",
        "    x = F.relu(x)\n",
        "    x = F.max_pool2d(x, 2)  \n",
        "    x = torch.flatten(x,1)  \n",
        "    x = self.fc1(x)         \n",
        "    x = F.relu(x)\n",
        "    x = self.dropout1(x)\n",
        "    x = self.fc2(x)\n",
        "    x = F.relu(x)\n",
        "    x = self.fc3(x)        \n",
        "    return x\n",
        "\n",
        "def fit(model,device,train_loader,val_loader,optimizer,criterion,epochs):\n",
        "  data_loader = {'train':train_loader,'val':val_loader}\n",
        "  print(\"Fitting the model...\")\n",
        "  train_loss,val_loss=[],[]\n",
        "  train_acc,val_acc=[],[]\n",
        "  for epoch in range(epochs):\n",
        "    loss_per_epoch,val_loss_per_epoch=0,0\n",
        "    acc_per_epoch,val_acc_per_epoch,total,val_total=0,0,0,0\n",
        "    for phase in ('train','val'):\n",
        "      for i,data in enumerate(data_loader[phase]):\n",
        "        inputs,labels  = data[0].to(device),data[1].to(device)\n",
        "        outputs = model(inputs)\n",
        "        #preding classes of one batch\n",
        "        preds = torch.max(outputs,1)[1]\n",
        "        #calculating loss on the output of one batch\n",
        "        loss = criterion(outputs,labels)\n",
        "        if phase == 'train':\n",
        "          acc_per_epoch+=(labels==preds).sum().item()\n",
        "          total+= labels.size(0)\n",
        "          optimizer.zero_grad()\n",
        "          #grad calc w.r.t Loss func\n",
        "          loss.backward()\n",
        "          #update weights\n",
        "          optimizer.step()\n",
        "          loss_per_epoch+=loss.item()\n",
        "        else:\n",
        "          val_acc_per_epoch+=(labels==preds).sum().item()\n",
        "          val_total+=labels.size(0)\n",
        "          val_loss_per_epoch+=loss.item()\n",
        "    print(\"Epoch: {} Loss: {:0.6f} Acc: {:0.6f} Val_Loss: {:0.6f} Val_Acc: {:0.6f}\".format(epoch+1,loss_per_epoch/len(train_loader),acc_per_epoch/total,val_loss_per_epoch/len(val_loader),val_acc_per_epoch/val_total))\n",
        "    train_loss.append(loss_per_epoch/len(train_loader))\n",
        "    val_loss.append(val_loss_per_epoch/len(val_loader))\n",
        "    train_acc.append(acc_per_epoch/total)\n",
        "    val_acc.append(val_acc_per_epoch/val_total)\n",
        "  return train_loss,val_loss,train_acc,val_acc"
      ],
      "execution_count": null,
      "outputs": []
    },
    {
      "cell_type": "code",
      "metadata": {
        "id": "xVLQNRyZ_btI",
        "colab": {
          "base_uri": "https://localhost:8080/",
          "height": 1000,
          "referenced_widgets": [
            "d3fa003abd134f478079c69058e98f1d",
            "f4b7fa3a03994b919ffea403a85b567b",
            "258d2d2e3ee641f78a6fbeb2739db0e3",
            "2b33babd76c7461ca8627e740b8ce53e",
            "e74fa1b2c8fc415abb7431a4609c7a0c",
            "0a7ca3f3e6284021b5be1292087ec15f",
            "734130b7beee4ee183619a69a9516699",
            "c9aa296145cf48f2a1bec70ab55fe993",
            "a1f8a186017640aca80ad36989a57581",
            "365bb49db87a4d50927385b065af7a51",
            "96074c9c56044a11948478b84feb5acc",
            "32093931c9b4462ea5e74e4a66ac2044",
            "341188abca7148b099b697f6ef8c6656",
            "4e3bda5aa63b49bbb605a04ed5222e55",
            "dec10218bf974dbeae3fe019483255d1",
            "75d321d06f14421e88a1fa20262585fc",
            "edf9206ca6334fa6b363ff4bfafb9387",
            "c42d3302b5ba45f9a4025451f541711c",
            "ccebe90a1cda4c04a4be9fe4d6b824d9",
            "dffa5222fa75446b8970b2e6da1b1ec4",
            "6939fc0956944b1dbe8fdef72a56aeb0",
            "19aabb004ad14deba50786406630c100",
            "456b5dc375684ee8adae7fab15b51025",
            "111b298d6a0e4442ae9c1dfc9bd924fa",
            "9c2c1c5363fc43d8883c2de292139cb7",
            "27ded57766b0407db10e1709a5f52bdf",
            "2bcf2cadf6dd4976824c8c55803e4bbf",
            "38ed1490cdb448738696b4d16d8b4bf6",
            "bb59055d90204d5eb982ab9a6af3090a",
            "dd90f3733c0c4a518885f0613e0de601",
            "488824ecc34e423f91544ea87ec48a21",
            "c9f8f0f229c94b47b91a45a355bf7bbe"
          ]
        },
        "outputId": "fa9474a7-09d1-4c8e-ffcc-2c3604581146"
      },
      "source": [
        "if __name__=='__main__':\n",
        "  np.random.seed(42)\n",
        "  torch.manual_seed(42)\n",
        "\n",
        "  transform = transforms.Compose([transforms.ToTensor(), transforms.Normalize((0.5,), (1.0,))])\n",
        "  dataset = datasets.MNIST(root = './data', train=True, transform = transform, download=True)\n",
        "  train_set, val_set = torch.utils.data.random_split(dataset, [55000, 5000])\n",
        "  train_loader = torch.utils.data.DataLoader(train_set,batch_size=128,shuffle=True)\n",
        "  val_loader = torch.utils.data.DataLoader(val_set,batch_size=128,shuffle=True)\n",
        "  \n",
        "  use_cuda=True\n",
        "  device = torch.device(\"cuda\" if (use_cuda and torch.cuda.is_available()) else \"cpu\")\n",
        "\n",
        "  model = Net().to(device)\n",
        "  summary(model,(1,28,28))\n",
        "\n",
        "  optimizer = optim.SGD(model.parameters(),lr=0.01, momentum=0.9, nesterov=True, weight_decay=1e-6)\n",
        "  criterion = nn.CrossEntropyLoss()\n",
        "\n",
        "  train_loss,val_loss,train_acc,val_acc=fit(model,device,train_loader,val_loader,optimizer,criterion,50)\n",
        "\n",
        "  fig = plt.figure(figsize=(5,5))\n",
        "  plt.plot(np.arange(1,51), train_loss, \"*-\",label=\"Training Loss\")\n",
        "  plt.plot(np.arange(1,51), val_loss,\"o-\",label=\"Val Loss\")\n",
        "  plt.xlabel(\"Num of epochs\")\n",
        "  plt.legend()\n",
        "  plt.show()\n",
        "  # plt.savefig('loss_event.png')\n",
        "\n",
        "  fig = plt.figure(figsize=(5,5))\n",
        "  plt.plot(np.arange(1,51), train_acc, \"*-\",label=\"Training Acc\")\n",
        "  plt.plot(np.arange(1,51), val_acc,\"o-\",label=\"Val Acc\")\n",
        "  plt.xlabel(\"Num of epochs\")\n",
        "  plt.legend()\n",
        "  plt.show()\n",
        "  # plt.savefig('accuracy_event.png')\n",
        "\n",
        "  torch.save(model.state_dict(),'./model.pt')"
      ],
      "execution_count": null,
      "outputs": [
        {
          "output_type": "stream",
          "text": [
            "Downloading http://yann.lecun.com/exdb/mnist/train-images-idx3-ubyte.gz to ./data/MNIST/raw/train-images-idx3-ubyte.gz\n"
          ],
          "name": "stdout"
        },
        {
          "output_type": "display_data",
          "data": {
            "application/vnd.jupyter.widget-view+json": {
              "model_id": "d3fa003abd134f478079c69058e98f1d",
              "version_minor": 0,
              "version_major": 2
            },
            "text/plain": [
              "HBox(children=(FloatProgress(value=1.0, bar_style='info', max=1.0), HTML(value='')))"
            ]
          },
          "metadata": {
            "tags": []
          }
        },
        {
          "output_type": "stream",
          "text": [
            "Extracting ./data/MNIST/raw/train-images-idx3-ubyte.gz to ./data/MNIST/raw\n",
            "Downloading http://yann.lecun.com/exdb/mnist/train-labels-idx1-ubyte.gz to ./data/MNIST/raw/train-labels-idx1-ubyte.gz\n"
          ],
          "name": "stdout"
        },
        {
          "output_type": "display_data",
          "data": {
            "application/vnd.jupyter.widget-view+json": {
              "model_id": "a1f8a186017640aca80ad36989a57581",
              "version_minor": 0,
              "version_major": 2
            },
            "text/plain": [
              "HBox(children=(FloatProgress(value=1.0, bar_style='info', max=1.0), HTML(value='')))"
            ]
          },
          "metadata": {
            "tags": []
          }
        },
        {
          "output_type": "stream",
          "text": [
            "Extracting ./data/MNIST/raw/train-labels-idx1-ubyte.gz to ./data/MNIST/raw\n",
            "Downloading http://yann.lecun.com/exdb/mnist/t10k-images-idx3-ubyte.gz to ./data/MNIST/raw/t10k-images-idx3-ubyte.gz\n"
          ],
          "name": "stdout"
        },
        {
          "output_type": "display_data",
          "data": {
            "application/vnd.jupyter.widget-view+json": {
              "model_id": "edf9206ca6334fa6b363ff4bfafb9387",
              "version_minor": 0,
              "version_major": 2
            },
            "text/plain": [
              "HBox(children=(FloatProgress(value=1.0, bar_style='info', max=1.0), HTML(value='')))"
            ]
          },
          "metadata": {
            "tags": []
          }
        },
        {
          "output_type": "stream",
          "text": [
            "Extracting ./data/MNIST/raw/t10k-images-idx3-ubyte.gz to ./data/MNIST/raw\n",
            "Downloading http://yann.lecun.com/exdb/mnist/t10k-labels-idx1-ubyte.gz to ./data/MNIST/raw/t10k-labels-idx1-ubyte.gz\n"
          ],
          "name": "stdout"
        },
        {
          "output_type": "display_data",
          "data": {
            "application/vnd.jupyter.widget-view+json": {
              "model_id": "9c2c1c5363fc43d8883c2de292139cb7",
              "version_minor": 0,
              "version_major": 2
            },
            "text/plain": [
              "HBox(children=(FloatProgress(value=1.0, bar_style='info', max=1.0), HTML(value='')))"
            ]
          },
          "metadata": {
            "tags": []
          }
        },
        {
          "output_type": "stream",
          "text": [
            "Extracting ./data/MNIST/raw/t10k-labels-idx1-ubyte.gz to ./data/MNIST/raw\n",
            "Processing...\n",
            "Done!\n"
          ],
          "name": "stdout"
        },
        {
          "output_type": "stream",
          "text": [
            "/usr/local/lib/python3.6/dist-packages/torchvision/datasets/mnist.py:469: UserWarning: The given NumPy array is not writeable, and PyTorch does not support non-writeable tensors. This means you can write to the underlying (supposedly non-writeable) NumPy array using the tensor. You may want to copy the array to protect its data or make it writeable before converting it to a tensor. This type of warning will be suppressed for the rest of this program. (Triggered internally at  /pytorch/torch/csrc/utils/tensor_numpy.cpp:141.)\n",
            "  return torch.from_numpy(parsed.astype(m[2], copy=False)).view(*s)\n"
          ],
          "name": "stderr"
        },
        {
          "output_type": "stream",
          "text": [
            "\n",
            "\n",
            "\n",
            "----------------------------------------------------------------\n",
            "        Layer (type)               Output Shape         Param #\n",
            "================================================================\n",
            "            Conv2d-1           [-1, 32, 26, 26]             320\n",
            "            Conv2d-2           [-1, 32, 24, 24]           9,248\n",
            "            Conv2d-3           [-1, 64, 10, 10]          18,496\n",
            "            Conv2d-4             [-1, 64, 8, 8]          36,928\n",
            "            Linear-5                  [-1, 200]         205,000\n",
            "         Dropout2d-6                  [-1, 200]               0\n",
            "            Linear-7                  [-1, 200]          40,200\n",
            "            Linear-8                   [-1, 10]           2,010\n",
            "================================================================\n",
            "Total params: 312,202\n",
            "Trainable params: 312,202\n",
            "Non-trainable params: 0\n",
            "----------------------------------------------------------------\n",
            "Input size (MB): 0.00\n",
            "Forward/backward pass size (MB): 0.39\n",
            "Params size (MB): 1.19\n",
            "Estimated Total Size (MB): 1.58\n",
            "----------------------------------------------------------------\n",
            "Fitting the model...\n",
            "Epoch: 1 Loss: 1.472643 Acc: 0.460273 Val_Loss: 0.265602 Val_Acc: 0.916400\n",
            "Epoch: 2 Loss: 0.169875 Acc: 0.948727 Val_Loss: 0.116927 Val_Acc: 0.964800\n",
            "Epoch: 3 Loss: 0.105998 Acc: 0.967945 Val_Loss: 0.102856 Val_Acc: 0.969800\n",
            "Epoch: 4 Loss: 0.084034 Acc: 0.974655 Val_Loss: 0.090810 Val_Acc: 0.972400\n",
            "Epoch: 5 Loss: 0.067883 Acc: 0.978455 Val_Loss: 0.075425 Val_Acc: 0.975400\n",
            "Epoch: 6 Loss: 0.056603 Acc: 0.982055 Val_Loss: 0.069636 Val_Acc: 0.979800\n",
            "Epoch: 7 Loss: 0.049613 Acc: 0.984273 Val_Loss: 0.074366 Val_Acc: 0.979400\n",
            "Epoch: 8 Loss: 0.043806 Acc: 0.986055 Val_Loss: 0.059160 Val_Acc: 0.981600\n",
            "Epoch: 9 Loss: 0.039970 Acc: 0.986982 Val_Loss: 0.058288 Val_Acc: 0.983200\n",
            "Epoch: 10 Loss: 0.034666 Acc: 0.989273 Val_Loss: 0.061891 Val_Acc: 0.985200\n",
            "Epoch: 11 Loss: 0.031844 Acc: 0.989618 Val_Loss: 0.050292 Val_Acc: 0.985000\n",
            "Epoch: 12 Loss: 0.029742 Acc: 0.990255 Val_Loss: 0.062911 Val_Acc: 0.982000\n",
            "Epoch: 13 Loss: 0.026596 Acc: 0.991418 Val_Loss: 0.053053 Val_Acc: 0.984600\n",
            "Epoch: 14 Loss: 0.026365 Acc: 0.991836 Val_Loss: 0.053175 Val_Acc: 0.984400\n",
            "Epoch: 15 Loss: 0.024008 Acc: 0.992109 Val_Loss: 0.039922 Val_Acc: 0.989200\n",
            "Epoch: 16 Loss: 0.023665 Acc: 0.992455 Val_Loss: 0.047416 Val_Acc: 0.986200\n",
            "Epoch: 17 Loss: 0.021272 Acc: 0.992964 Val_Loss: 0.051002 Val_Acc: 0.983400\n",
            "Epoch: 18 Loss: 0.019701 Acc: 0.993655 Val_Loss: 0.077054 Val_Acc: 0.986400\n",
            "Epoch: 19 Loss: 0.017795 Acc: 0.994255 Val_Loss: 0.058756 Val_Acc: 0.984600\n",
            "Epoch: 20 Loss: 0.017708 Acc: 0.994273 Val_Loss: 0.052982 Val_Acc: 0.985800\n",
            "Epoch: 21 Loss: 0.017668 Acc: 0.993945 Val_Loss: 0.048424 Val_Acc: 0.988000\n",
            "Epoch: 22 Loss: 0.015387 Acc: 0.994527 Val_Loss: 0.086491 Val_Acc: 0.986800\n",
            "Epoch: 23 Loss: 0.014592 Acc: 0.995382 Val_Loss: 0.052220 Val_Acc: 0.988200\n",
            "Epoch: 24 Loss: 0.014615 Acc: 0.994927 Val_Loss: 0.047964 Val_Acc: 0.986600\n",
            "Epoch: 25 Loss: 0.012900 Acc: 0.995673 Val_Loss: 0.051500 Val_Acc: 0.988600\n",
            "Epoch: 26 Loss: 0.012767 Acc: 0.995673 Val_Loss: 0.048978 Val_Acc: 0.987400\n",
            "Epoch: 27 Loss: 0.013146 Acc: 0.995764 Val_Loss: 0.069179 Val_Acc: 0.984800\n",
            "Epoch: 28 Loss: 0.011747 Acc: 0.996218 Val_Loss: 0.051985 Val_Acc: 0.988000\n",
            "Epoch: 29 Loss: 0.011133 Acc: 0.996182 Val_Loss: 0.051931 Val_Acc: 0.988800\n",
            "Epoch: 30 Loss: 0.011567 Acc: 0.995873 Val_Loss: 0.063120 Val_Acc: 0.985800\n",
            "Epoch: 31 Loss: 0.010249 Acc: 0.996291 Val_Loss: 0.057894 Val_Acc: 0.987200\n",
            "Epoch: 32 Loss: 0.009403 Acc: 0.996655 Val_Loss: 0.050393 Val_Acc: 0.990400\n",
            "Epoch: 33 Loss: 0.009335 Acc: 0.996818 Val_Loss: 0.048494 Val_Acc: 0.989000\n",
            "Epoch: 34 Loss: 0.006783 Acc: 0.997691 Val_Loss: 0.060511 Val_Acc: 0.988400\n",
            "Epoch: 35 Loss: 0.007457 Acc: 0.997655 Val_Loss: 0.059045 Val_Acc: 0.987000\n",
            "Epoch: 36 Loss: 0.007300 Acc: 0.997527 Val_Loss: 0.056964 Val_Acc: 0.988800\n",
            "Epoch: 37 Loss: 0.007875 Acc: 0.997364 Val_Loss: 0.049360 Val_Acc: 0.988600\n",
            "Epoch: 38 Loss: 0.008268 Acc: 0.997200 Val_Loss: 0.049651 Val_Acc: 0.988400\n",
            "Epoch: 39 Loss: 0.008157 Acc: 0.997291 Val_Loss: 0.041614 Val_Acc: 0.988600\n",
            "Epoch: 40 Loss: 0.006921 Acc: 0.997782 Val_Loss: 0.047100 Val_Acc: 0.988800\n",
            "Epoch: 41 Loss: 0.008065 Acc: 0.997018 Val_Loss: 0.053047 Val_Acc: 0.988000\n",
            "Epoch: 42 Loss: 0.007576 Acc: 0.997327 Val_Loss: 0.048302 Val_Acc: 0.989400\n",
            "Epoch: 43 Loss: 0.006725 Acc: 0.997564 Val_Loss: 0.043413 Val_Acc: 0.990200\n",
            "Epoch: 44 Loss: 0.007075 Acc: 0.997745 Val_Loss: 0.053848 Val_Acc: 0.988600\n",
            "Epoch: 45 Loss: 0.006586 Acc: 0.997582 Val_Loss: 0.046619 Val_Acc: 0.989400\n",
            "Epoch: 46 Loss: 0.006155 Acc: 0.997764 Val_Loss: 0.054634 Val_Acc: 0.989200\n",
            "Epoch: 47 Loss: 0.005016 Acc: 0.998291 Val_Loss: 0.054638 Val_Acc: 0.988000\n",
            "Epoch: 48 Loss: 0.005117 Acc: 0.998327 Val_Loss: 0.046499 Val_Acc: 0.990000\n",
            "Epoch: 49 Loss: 0.006215 Acc: 0.998036 Val_Loss: 0.049788 Val_Acc: 0.989600\n",
            "Epoch: 50 Loss: 0.006280 Acc: 0.997764 Val_Loss: 0.058732 Val_Acc: 0.988600\n"
          ],
          "name": "stdout"
        },
        {
          "output_type": "display_data",
          "data": {
            "image/png": "[encoded data removed]",
            "text/plain": [
              "<Figure size 360x360 with 1 Axes>"
            ]
          },
          "metadata": {
            "tags": [],
            "needs_background": "light"
          }
        },
        {
          "output_type": "display_data",
          "data": {
            "image/png": "[encoded data removed]",
            "text/plain": [
              "<Figure size 360x360 with 1 Axes>"
            ]
          },
          "metadata": {
            "tags": [],
            "needs_background": "light"
          }
        }
      ]
    },
    {
      "cell_type": "markdown",
      "metadata": {
        "id": "nLHN6HmWH6kA"
      },
      "source": [
        "##stAdv Attack "
      ]
    },
    {
      "cell_type": "code",
      "metadata": {
        "id": "gdAXxnSMIbtQ"
      },
      "source": [
        "#https://github.com/rakutentech/stAdv - refered code\n",
        "def flow_st(images,flows):\n",
        "  images_shape = images.size()\n",
        "  flows_shape = flows.size()\n",
        "  batch_size = images_shape[0]\n",
        "  H = images_shape[2]\n",
        "  W = images_shape[3]\n",
        "  basegrid = torch.stack(torch.meshgrid(torch.arange(0,H), torch.arange(0,W))) #(2,H,W)\n",
        "  sampling_grid = basegrid.unsqueeze(0).type(torch.float32).cuda() + flows.cuda()\n",
        "  sampling_grid_x = torch.clamp(sampling_grid[:,1],0.0,W-1.0).type(torch.float32)\n",
        "  sampling_grid_y = torch.clamp(sampling_grid[:,0],0.0,H-1.0).type(torch.float32)\n",
        "\n",
        "  x0 = torch.floor(sampling_grid_x).type(torch.int64)\n",
        "  x1 = x0 + 1\n",
        "  y0 = torch.floor(sampling_grid_y).type(torch.int64)\n",
        "  y1 = y0 + 1\n",
        "\n",
        "  x0 = torch.clamp(x0, 0, W - 2)\n",
        "  x1 = torch.clamp(x1, 0, W - 1)\n",
        "  y0 = torch.clamp(y0, 0, H - 2)\n",
        "  y1 = torch.clamp(y1, 0, H - 1)\n",
        "  \n",
        "  Ia = images[:,:,y0[0,:,:], x0[0,:,:]]\n",
        "  Ib = images[:,:,y1[0,:,:], x0[0,:,:]]\n",
        "  Ic = images[:,:,y0[0,:,:], x1[0,:,:]]\n",
        "  Id = images[:,:,y1[0,:,:], x1[0,:,:]]\n",
        "\n",
        "  x0 = x0.type(torch.float32)\n",
        "  x1 = x1.type(torch.float32)\n",
        "  y0 = y0.type(torch.float32)\n",
        "  y1 = y1.type(torch.float32)\n",
        "  \n",
        "  wa = (x1 - sampling_grid_x) * (y1 - sampling_grid_y)\n",
        "  wb = (x1 - sampling_grid_x) * (sampling_grid_y - y0)\n",
        "  wc = (sampling_grid_x - x0) * (y1 - sampling_grid_y)\n",
        "  wd = (sampling_grid_x - x0) * (sampling_grid_y - y0)\n",
        "  \n",
        "  perturbed_image = wa.unsqueeze(0)*Ia+wb.unsqueeze(0)*Ib+wc.unsqueeze(0)*Ic+wd.unsqueeze(0)*Id\n",
        "\n",
        "  return perturbed_image.type(torch.float32).cuda()"
      ],
      "execution_count": null,
      "outputs": []
    },
    {
      "cell_type": "code",
      "metadata": {
        "id": "PsXXKPSYFzQ1"
      },
      "source": [
        "def flow_loss(flows,padding_mode='constant', epsilon=1e-8):\n",
        "  paddings = (1,1,1,1)\n",
        "  padded_flows = F.pad(flows,paddings,mode=padding_mode,value=0)\n",
        "  shifted_flows = [\n",
        "    padded_flows[:, :, 2:, 2:],  # bottom right (+1,+1)\n",
        "    padded_flows[:, :, 2:, :-2],  # bottom left (+1,-1)\n",
        "    padded_flows[:, :, :-2, 2:],  # top right (-1,+1)\n",
        "    padded_flows[:, :, :-2, :-2]  # top left (-1,-1)\n",
        "  ]\n",
        "  #||\\Delta u^{(p)} - \\Delta u^{(q)}||_2^2 + # ||\\Delta v^{(p)} - \\Delta v^{(q)}||_2^2 \n",
        "  loss=0\n",
        "  for shifted_flow in shifted_flows:\n",
        "    loss += torch.sum(torch.square(flows[:, 1] - shifted_flow[:, 1]) + torch.square(flows[:, 0] - shifted_flow[:, 0]) + epsilon).cuda()\n",
        "  return loss.type(torch.float32)\n",
        "\n",
        "def adv_loss(logits,targets,confidence=0.0):\n",
        "  confidence=torch.tensor(confidence).cuda()\n",
        "  real = torch.sum(logits*targets,-1)\n",
        "  other = torch.max((1-targets)*logits-(targets*10000),-1)[0]\n",
        "  return torch.max(other-real,confidence)[0].type(torch.float32)"
      ],
      "execution_count": null,
      "outputs": []
    },
    {
      "cell_type": "code",
      "metadata": {
        "id": "cUO-YVefL2Hc"
      },
      "source": [
        "def func(flows,input,target,model,const=0.05):\n",
        "  input = torch.from_numpy(input).cuda()\n",
        "  target = torch.from_numpy(target).cuda()\n",
        "  flows = torch.from_numpy(flows).view((1,2,)+input.size()[2:]).cuda()\n",
        "  flows.requires_grad=True\n",
        "  pert_out = flow_st(input,flows)\n",
        "  output = model(pert_out)\n",
        "  L_flow = flow_loss(flows)\n",
        "  L_adv = adv_loss(output,target)\n",
        "  L_final = L_adv+const*L_flow\n",
        "  model.zero_grad()\n",
        "  L_final.backward()\n",
        "  gradient = flows.grad.data.view(-1).detach().cpu().numpy()\n",
        "  return L_final.item(),gradient"
      ],
      "execution_count": null,
      "outputs": []
    },
    {
      "cell_type": "code",
      "metadata": {
        "id": "q-UHbZxi3Ujs"
      },
      "source": [
        "def attack(input,target,model):\n",
        "  init_flows = np.zeros((1,2,)+input.size()[2:]).reshape(-1)\n",
        "  results = optimize.fmin_l_bfgs_b(func,init_flows,args=(input.cpu().numpy(),target.cpu().numpy(),model))\n",
        "  if b'CONVERGENCE' in results[2]['task']:\n",
        "    flows = torch.from_numpy(results[0]).view((1,2,)+input.size()[2:])\n",
        "    pert_out = flow_st(input,flows)\n",
        "  else:\n",
        "    return None\n",
        "  return pert_out"
      ],
      "execution_count": null,
      "outputs": []
    },
    {
      "cell_type": "code",
      "metadata": {
        "id": "BeDjzbFkSBHm"
      },
      "source": [
        "if __name__=='__main__':\n",
        "  np.random.seed(42)\n",
        "  torch.manual_seed(42)\n",
        "\n",
        "  transform = transforms.Compose([transforms.ToTensor(), transforms.Normalize((0.5,), (1.0,))])\n",
        "  testset = datasets.MNIST(root = './data', train=False, transform = transform, download=True)\n",
        "  test_loader = torch.utils.data.DataLoader(testset,batch_size=1,shuffle=True)\n",
        "\n",
        "  use_cuda=True\n",
        "  device = torch.device(\"cuda\" if (use_cuda and torch.cuda.is_available()) else \"cpu\")\n",
        "  model = Net().to(device) \n",
        "  model.load_state_dict(torch.load('./model.pt'))\n",
        "  model.eval()\n",
        "\n",
        "  adv=[]\n",
        "  adv_label=[]\n",
        "  correct_label=[]\n",
        "  sample=100\n",
        "  success=0\n",
        "  for i,data in enumerate(test_loader):\n",
        "    if i<sample:\n",
        "      input,label = data[0].to(device),data[1].to(device)\n",
        "      random_target = np.random.choice([num for num in range(10) if num != label.item()])\n",
        "      target = torch.from_numpy(np.expand_dims(np.eye(10, dtype=np.float32)[random_target],0)).cuda()\n",
        "      pert_out = attack(input,target,model)\n",
        "      if pert_out!=None:\n",
        "        output =  model(pert_out) \n",
        "        adv.append(pert_out.squeeze().detach().cpu().numpy())\n",
        "        correct_label.append(label.item())\n",
        "        adv_label.append(torch.argmax(output).item())\n",
        "        if label.item()!=torch.argmax(output).item():\n",
        "          success+=1\n",
        "    else:\n",
        "      break"
      ],
      "execution_count": null,
      "outputs": []
    },
    {
      "cell_type": "code",
      "metadata": {
        "id": "zl8Npntlf6ui",
        "colab": {
          "base_uri": "https://localhost:8080/",
          "height": 637
        },
        "outputId": "91d96a44-6e4b-429b-8588-33cba862bf70"
      },
      "source": [
        "print(\"Success Rate: {:.4f} \".format(success/sample))\n",
        "cnt = 0\n",
        "plt.figure(figsize=(8,10))\n",
        "for i in range(len(adv)):\n",
        "  cnt += 1\n",
        "  plt.subplot(8,10,cnt)\n",
        "  plt.xticks([], [])\n",
        "  plt.yticks([], [])\n",
        "  orig,adv_,ex = correct_label[i],adv_label[i],adv[i]\n",
        "  plt.title(\"{} -> {}\".format(orig, adv_))\n",
        "  plt.imshow(ex, cmap=\"gray\")\n",
        "plt.tight_layout()\n",
        "plt.show()"
      ],
      "execution_count": null,
      "outputs": [
        {
          "output_type": "stream",
          "text": [
            "Success Rate: 0.3800 \n"
          ],
          "name": "stdout"
        },
        {
          "output_type": "display_data",
          "data": {
            "image/png": "[encoded data removed]",
            "text/plain": [
              "<Figure size 576x720 with 66 Axes>"
            ]
          },
          "metadata": {
            "tags": []
          }
        }
      ]
    }
  ]
}